{
  "nbformat": 4,
  "nbformat_minor": 0,
  "metadata": {
    "colab": {
      "provenance": [],
      "authorship_tag": "ABX9TyOj0PStJhVCNozQI6YLHvqZ",
      "include_colab_link": true
    },
    "kernelspec": {
      "name": "python3",
      "display_name": "Python 3"
    },
    "language_info": {
      "name": "python"
    }
  },
  "cells": [
    {
      "cell_type": "markdown",
      "metadata": {
        "id": "view-in-github",
        "colab_type": "text"
      },
      "source": [
        "<a href=\"https://colab.research.google.com/github/hannah-davidson/insar-bayesian-sbas/blob/main/Meal_Swipes.ipynb\" target=\"_parent\"><img src=\"https://colab.research.google.com/assets/colab-badge.svg\" alt=\"Open In Colab\"/></a>"
      ]
    },
    {
      "cell_type": "markdown",
      "source": [
        "The purpose of this is to help track how many meal swipes you've used per week. Remember, you can only use 12 every week!"
      ],
      "metadata": {
        "id": "s3iZmacDZ44D"
      }
    },
    {
      "cell_type": "code",
      "execution_count": null,
      "metadata": {
        "colab": {
          "base_uri": "https://localhost:8080/"
        },
        "id": "L3YmJCv2Z0yL",
        "outputId": "48ae5c94-6442-4234-889a-291e90c8d010"
      },
      "outputs": [
        {
          "output_type": "stream",
          "name": "stdout",
          "text": [
            "Did you eat at the dining hall today? yes\n",
            "Remaining swipes: 11\n"
          ]
        }
      ],
      "source": [
        "swipes = 12\n",
        "\n",
        "response = input(\"Did you eat at the dining hall today? \")\n",
        "\n",
        "if response.lower() == \"yes\":\n",
        "    swipes -= 1  # Decrease swipes by 1\n",
        "    if swipes == 0:\n",
        "        print(\"You have no swipes left.\")\n",
        "    else:\n",
        "        print(f\"Remaining swipes: {swipes}\")\n",
        "else:\n",
        "    print(f\"Remaining swipes: {swipes}\")\n",
        "\n"
      ]
    }
  ]
}